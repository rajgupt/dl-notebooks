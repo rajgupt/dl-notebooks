{
  "nbformat": 4,
  "nbformat_minor": 0,
  "metadata": {
    "colab": {
      "name": "tensorflow_intro_datastructure.ipynb",
      "private_outputs": true,
      "provenance": [],
      "collapsed_sections": [],
      "authorship_tag": "ABX9TyPrFA7lzPy/PQb048kb+V5U",
      "include_colab_link": true
    },
    "kernelspec": {
      "name": "python3",
      "display_name": "Python 3"
    },
    "language_info": {
      "name": "python"
    }
  },
  "cells": [
    {
      "cell_type": "markdown",
      "metadata": {
        "id": "view-in-github",
        "colab_type": "text"
      },
      "source": [
        "<a href=\"https://colab.research.google.com/github/rajgupt/dl-notebooks/blob/main/tensorflow_intro_datastructure.ipynb\" target=\"_parent\"><img src=\"https://colab.research.google.com/assets/colab-badge.svg\" alt=\"Open In Colab\"/></a>"
      ]
    },
    {
      "cell_type": "code",
      "metadata": {
        "id": "989r5ijMz0Cc"
      },
      "source": [
        "import tensorflow as tf\n",
        "import numpy as np\n",
        "import pandas as pd\n",
        "import sklearn.datasets\n",
        "import seaborn as sns"
      ],
      "execution_count": null,
      "outputs": []
    },
    {
      "cell_type": "code",
      "metadata": {
        "id": "uDOs_5e0B7e9"
      },
      "source": [
        ""
      ],
      "execution_count": null,
      "outputs": []
    },
    {
      "cell_type": "markdown",
      "metadata": {
        "id": "3PgNJxDV0swo"
      },
      "source": [
        "TF Dataset -  represents set of elements / tensors as a iterator"
      ]
    },
    {
      "cell_type": "code",
      "metadata": {
        "id": "jYdMeOWRz-SE"
      },
      "source": [
        "# define from tensor\n",
        "ds = tf.data.Dataset.from_tensor_slices([1, 2, 3])\n",
        "ds"
      ],
      "execution_count": null,
      "outputs": []
    },
    {
      "cell_type": "code",
      "metadata": {
        "id": "wJkV4CSY0eu2"
      },
      "source": [
        "# tensor iterator\n",
        "for i in dataset:\n",
        "  print(i)"
      ],
      "execution_count": null,
      "outputs": []
    },
    {
      "cell_type": "code",
      "metadata": {
        "id": "sYrMn26D1jo3"
      },
      "source": [
        "# use as np iterator\n",
        "for i in ds.as_numpy_iterator():\n",
        "  print(i)"
      ],
      "execution_count": null,
      "outputs": []
    },
    {
      "cell_type": "code",
      "metadata": {
        "id": "kwr7oixD093e"
      },
      "source": [
        "# map function to a dataset\n",
        "ds2 = ds.map(lambda x: x**2)"
      ],
      "execution_count": null,
      "outputs": []
    },
    {
      "cell_type": "code",
      "metadata": {
        "id": "Gs4NsWSc_jX_"
      },
      "source": [
        "# reduce a dataset\n",
        "ds.reduce(1,  lambda x,y: x*y).numpy()"
      ],
      "execution_count": null,
      "outputs": []
    },
    {
      "cell_type": "code",
      "metadata": {
        "id": "szAyOmYkABmU"
      },
      "source": [
        "# other dataset creation examples\n",
        "ds1 = tf.data.Dataset.range(10)"
      ],
      "execution_count": null,
      "outputs": []
    },
    {
      "cell_type": "code",
      "metadata": {
        "id": "tDugWJWgAmZT"
      },
      "source": [
        "# create ds from any arr\n",
        "random_tensor = tf.random.uniform([4,10])\n",
        "random_ds = tf.data.Dataset.from_tensor_slices(random_tensor)\n",
        "\n",
        "# you can create from np arr as well\n",
        "arr = np.random.random([4,10])\n",
        "tf.data.Dataset.from_tensor_slices(arr)"
      ],
      "execution_count": null,
      "outputs": []
    },
    {
      "cell_type": "markdown",
      "metadata": {
        "id": "4qTpJKeXJswb"
      },
      "source": [
        "You can load pandas dataframe directly in tf data as well"
      ]
    },
    {
      "cell_type": "code",
      "metadata": {
        "id": "HDnqpe1AA-Z2"
      },
      "source": [
        "iris = sns.load_dataset('iris')\n",
        "iris.head()"
      ],
      "execution_count": null,
      "outputs": []
    },
    {
      "cell_type": "code",
      "metadata": {
        "id": "FBISWi6CBYQF"
      },
      "source": [
        "iris_tfdata = tf.data.Dataset.from_tensor_slices((iris.drop('species',axis=1), iris.species))\n",
        "for i in iris_tfdata.take(3):\n",
        "  print(i)"
      ],
      "execution_count": null,
      "outputs": []
    },
    {
      "cell_type": "markdown",
      "metadata": {
        "id": "XDTvWTvMK3IT"
      },
      "source": [
        "The easiest way to preserve the column structure of a pd.DataFrame when used with tf.data is to convert the pd.DataFrame to a dict, and slice that dictionary."
      ]
    },
    {
      "cell_type": "code",
      "metadata": {
        "id": "yDeieI-rIo4D"
      },
      "source": [
        "target = iris.pop('species')"
      ],
      "execution_count": null,
      "outputs": []
    },
    {
      "cell_type": "code",
      "metadata": {
        "id": "1A0TN6WoM9jA"
      },
      "source": [
        "# using dictionary we retain data as named tensors\n",
        "ds1 = tf.data.Dataset.from_tensor_slices((iris.to_dict('list'), target.values)).batch(16)\n",
        "for batch in ds1.take(1):\n",
        "  print(batch)"
      ],
      "execution_count": null,
      "outputs": []
    },
    {
      "cell_type": "code",
      "metadata": {
        "id": "6wMui57_OETN"
      },
      "source": [
        "batch[0]['petal_length']"
      ],
      "execution_count": null,
      "outputs": []
    }
  ]
}