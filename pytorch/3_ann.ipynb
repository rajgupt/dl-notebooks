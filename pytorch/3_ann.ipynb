{
  "nbformat": 4,
  "nbformat_minor": 0,
  "metadata": {
    "colab": {
      "name": "3_ann.ipynb",
      "provenance": [],
      "collapsed_sections": [],
      "authorship_tag": "ABX9TyOHxBfa15xDP2bHPjqZ3c1e",
      "include_colab_link": true
    },
    "kernelspec": {
      "name": "python3",
      "display_name": "Python 3"
    },
    "language_info": {
      "name": "python"
    }
  },
  "cells": [
    {
      "cell_type": "markdown",
      "metadata": {
        "id": "view-in-github",
        "colab_type": "text"
      },
      "source": [
        "<a href=\"https://colab.research.google.com/github/rajgupt/dl-notebooks/blob/main/pytorch/3_ann.ipynb\" target=\"_parent\"><img src=\"https://colab.research.google.com/assets/colab-badge.svg\" alt=\"Open In Colab\"/></a>"
      ]
    },
    {
      "cell_type": "code",
      "metadata": {
        "id": "VeRETJZjZq9-"
      },
      "source": [
        "import os, torch, numpy as np\n",
        "from torch import nn\n",
        "from torch.utils.data import DataLoader\n",
        "from torchvision import transforms, datasets"
      ],
      "execution_count": 29,
      "outputs": []
    },
    {
      "cell_type": "code",
      "metadata": {
        "id": "BqTufFUYfLt8"
      },
      "source": [
        "from torchvision.transforms import ToTensor, Lambda\n",
        "\n",
        "training_data = datasets.FashionMNIST(\n",
        "    root=\"data\",\n",
        "    train=True,\n",
        "    download=True,\n",
        "    transform=ToTensor()\n",
        ")\n",
        "\n",
        "test_data = datasets.FashionMNIST(\n",
        "    root=\"data\",\n",
        "    train=False,\n",
        "    download=True,\n",
        "    transform=ToTensor()\n",
        ")"
      ],
      "execution_count": 30,
      "outputs": []
    },
    {
      "cell_type": "code",
      "metadata": {
        "id": "Ger-nrFQfOnl"
      },
      "source": [
        "train_dataloader = DataLoader(training_data, batch_size=64)\n",
        "test_dataloader = DataLoader(test_data, batch_size=64)"
      ],
      "execution_count": 31,
      "outputs": []
    },
    {
      "cell_type": "code",
      "metadata": {
        "id": "A0orK2m2Z3pI"
      },
      "source": [
        "# create a nn\n",
        "\n",
        "class NeuralNetwork(nn.Module):\n",
        "  def __init__(self):\n",
        "    super().__init__()\n",
        "    self.flatten = nn.Flatten()\n",
        "    self.linear_relu_stack = nn.Sequential(\n",
        "        nn.Linear(28*28, 512),\n",
        "        nn.ReLU(),\n",
        "        nn.Linear(512, 512),\n",
        "        nn.ReLU(),\n",
        "        nn.Linear(512,10),\n",
        "        nn.ReLU(),\n",
        "    )\n",
        "\n",
        "  def forward(self, x):\n",
        "    x = self.flatten(x)\n",
        "    return self.linear_relu_stack(x)\n"
      ],
      "execution_count": 32,
      "outputs": []
    },
    {
      "cell_type": "code",
      "metadata": {
        "colab": {
          "base_uri": "https://localhost:8080/"
        },
        "id": "qN_E7p4QbciQ",
        "outputId": "48d39319-3392-447b-bce6-55101401e7c8"
      },
      "source": [
        "model = NeuralNetwork()\n",
        "print(model)"
      ],
      "execution_count": 33,
      "outputs": [
        {
          "output_type": "stream",
          "text": [
            "NeuralNetwork(\n",
            "  (flatten): Flatten(start_dim=1, end_dim=-1)\n",
            "  (linear_relu_stack): Sequential(\n",
            "    (0): Linear(in_features=784, out_features=512, bias=True)\n",
            "    (1): ReLU()\n",
            "    (2): Linear(in_features=512, out_features=512, bias=True)\n",
            "    (3): ReLU()\n",
            "    (4): Linear(in_features=512, out_features=10, bias=True)\n",
            "    (5): ReLU()\n",
            "  )\n",
            ")\n"
          ],
          "name": "stdout"
        }
      ]
    },
    {
      "cell_type": "code",
      "metadata": {
        "colab": {
          "base_uri": "https://localhost:8080/"
        },
        "id": "Z7l2qYnDbg4S",
        "outputId": "6b17df9c-d988-40ff-b6ce-f1a4c86ee85f"
      },
      "source": [
        "for m in model.parameters():\n",
        "  print(m.shape)"
      ],
      "execution_count": 34,
      "outputs": [
        {
          "output_type": "stream",
          "text": [
            "torch.Size([512, 784])\n",
            "torch.Size([512])\n",
            "torch.Size([512, 512])\n",
            "torch.Size([512])\n",
            "torch.Size([10, 512])\n",
            "torch.Size([10])\n"
          ],
          "name": "stdout"
        }
      ]
    },
    {
      "cell_type": "code",
      "metadata": {
        "colab": {
          "base_uri": "https://localhost:8080/"
        },
        "id": "t7wNUDfocUvE",
        "outputId": "2b10a05e-f1d1-445e-f09a-bfe70a1adc2d"
      },
      "source": [
        "print(\"Model structure: \", model, \"\\n\\n\")\n",
        "\n",
        "for name, param in model.named_parameters():\n",
        "    print(f\"Layer: {name} | Size: {param.size()} | Values : {param[:2]} \\n\")\n"
      ],
      "execution_count": 35,
      "outputs": [
        {
          "output_type": "stream",
          "text": [
            "Model structure:  NeuralNetwork(\n",
            "  (flatten): Flatten(start_dim=1, end_dim=-1)\n",
            "  (linear_relu_stack): Sequential(\n",
            "    (0): Linear(in_features=784, out_features=512, bias=True)\n",
            "    (1): ReLU()\n",
            "    (2): Linear(in_features=512, out_features=512, bias=True)\n",
            "    (3): ReLU()\n",
            "    (4): Linear(in_features=512, out_features=10, bias=True)\n",
            "    (5): ReLU()\n",
            "  )\n",
            ") \n",
            "\n",
            "\n",
            "Layer: linear_relu_stack.0.weight | Size: torch.Size([512, 784]) | Values : tensor([[-0.0312,  0.0065, -0.0286,  ..., -0.0001, -0.0326,  0.0282],\n",
            "        [ 0.0191, -0.0165,  0.0154,  ...,  0.0212,  0.0077,  0.0296]],\n",
            "       grad_fn=<SliceBackward>) \n",
            "\n",
            "Layer: linear_relu_stack.0.bias | Size: torch.Size([512]) | Values : tensor([-0.0325,  0.0265], grad_fn=<SliceBackward>) \n",
            "\n",
            "Layer: linear_relu_stack.2.weight | Size: torch.Size([512, 512]) | Values : tensor([[-0.0241,  0.0045, -0.0297,  ...,  0.0364, -0.0039,  0.0006],\n",
            "        [ 0.0160, -0.0060,  0.0305,  ..., -0.0346, -0.0047, -0.0286]],\n",
            "       grad_fn=<SliceBackward>) \n",
            "\n",
            "Layer: linear_relu_stack.2.bias | Size: torch.Size([512]) | Values : tensor([-0.0028, -0.0297], grad_fn=<SliceBackward>) \n",
            "\n",
            "Layer: linear_relu_stack.4.weight | Size: torch.Size([10, 512]) | Values : tensor([[-0.0099,  0.0061, -0.0351,  ...,  0.0092,  0.0070, -0.0236],\n",
            "        [ 0.0412,  0.0289, -0.0300,  ...,  0.0299,  0.0012,  0.0254]],\n",
            "       grad_fn=<SliceBackward>) \n",
            "\n",
            "Layer: linear_relu_stack.4.bias | Size: torch.Size([10]) | Values : tensor([0.0087, 0.0258], grad_fn=<SliceBackward>) \n",
            "\n"
          ],
          "name": "stdout"
        }
      ]
    },
    {
      "cell_type": "code",
      "metadata": {
        "id": "9_sh3ocedfdL"
      },
      "source": [
        "learning_rate = 1e-3\n",
        "batch_size = 64\n",
        "epochs = 5"
      ],
      "execution_count": 36,
      "outputs": []
    },
    {
      "cell_type": "code",
      "metadata": {
        "id": "U4i0qXbNfWYu"
      },
      "source": [
        "# Initialize the loss function\n",
        "loss_fn = nn.CrossEntropyLoss()"
      ],
      "execution_count": 37,
      "outputs": []
    },
    {
      "cell_type": "code",
      "metadata": {
        "id": "0RwRPok7fY-a"
      },
      "source": [
        "optimizer = torch.optim.SGD(model.parameters(), lr=learning_rate)"
      ],
      "execution_count": 38,
      "outputs": []
    },
    {
      "cell_type": "code",
      "metadata": {
        "id": "Gh633OwkfbXr"
      },
      "source": [
        "def train(dl, model, loss_fn, opt):\n",
        "  size = len(dl.dataset)\n",
        "  for batch, (X,y) in enumerate(dl):\n",
        "    pred = model(X)\n",
        "    loss = loss_fn(pred, y)\n",
        "\n",
        "    # backprop\n",
        "    opt.zero_grad()\n",
        "    loss.backward()\n",
        "    opt.step()\n",
        "\n",
        "    if batch % 100 == 0:\n",
        "      loss, current = loss.item(), batch * len(X)\n",
        "      print(f\"loss: {loss:>7f}  [{current:>5d}/{size:>5d}]\")\n"
      ],
      "execution_count": 28,
      "outputs": []
    },
    {
      "cell_type": "code",
      "metadata": {
        "id": "jlUP-lVKgMbe"
      },
      "source": [
        "def test(dl, model, loss_fn):\n",
        "  size = len(dl.dataset)\n",
        "  num_batches = len(dl)\n",
        "  test_loss, correct = 0,0\n",
        "\n",
        "  with torch.no_grad():\n",
        "    for X,y in dl:\n",
        "      pred = model(X)\n",
        "      test_loss += loss_fn(pred,y).item()\n",
        "      correct += (pred.argmax(1)==y).type(torch.float).sum().item()\n",
        "  test_loss /= num_batches\n",
        "  correct /= size\n",
        "  print(f\"Test Error: \\n Accuracy: {(100*correct):>0.1f}%, Avg loss: {test_loss:>8f} \\n\")"
      ],
      "execution_count": 39,
      "outputs": []
    },
    {
      "cell_type": "code",
      "metadata": {
        "colab": {
          "base_uri": "https://localhost:8080/"
        },
        "id": "01ooLGPahxa0",
        "outputId": "f423150f-3591-4bc0-ac6d-2cb654bc6dba"
      },
      "source": [
        "loss_fn = nn.CrossEntropyLoss()\n",
        "optimizer = torch.optim.SGD(model.parameters(), lr=learning_rate)\n",
        "\n",
        "epochs = 10\n",
        "for t in range(epochs):\n",
        "    print(f\"Epoch {t+1}\\n-------------------------------\")\n",
        "    train(train_dataloader, model, loss_fn, optimizer)\n",
        "    test(test_dataloader, model, loss_fn)\n",
        "print(\"Done!\")"
      ],
      "execution_count": 41,
      "outputs": [
        {
          "output_type": "stream",
          "text": [
            "Epoch 1\n",
            "-------------------------------\n",
            "loss: 2.296246  [    0/60000]\n",
            "loss: 2.289865  [ 6400/60000]\n",
            "loss: 2.278299  [12800/60000]\n",
            "loss: 2.274534  [19200/60000]\n",
            "loss: 2.261336  [25600/60000]\n",
            "loss: 2.241245  [32000/60000]\n",
            "loss: 2.253399  [38400/60000]\n",
            "loss: 2.225457  [44800/60000]\n",
            "loss: 2.227302  [51200/60000]\n",
            "loss: 2.206322  [57600/60000]\n",
            "Test Error: \n",
            " Accuracy: 47.4%, Avg loss: 2.196274 \n",
            "\n",
            "Epoch 2\n",
            "-------------------------------\n",
            "loss: 2.206214  [    0/60000]\n",
            "loss: 2.200494  [ 6400/60000]\n",
            "loss: 2.152970  [12800/60000]\n",
            "loss: 2.169409  [19200/60000]\n",
            "loss: 2.130964  [25600/60000]\n",
            "loss: 2.087498  [32000/60000]\n",
            "loss: 2.134934  [38400/60000]\n",
            "loss: 2.058026  [44800/60000]\n",
            "loss: 2.082789  [51200/60000]\n",
            "loss: 2.049318  [57600/60000]\n",
            "Test Error: \n",
            " Accuracy: 50.4%, Avg loss: 2.015581 \n",
            "\n",
            "Epoch 3\n",
            "-------------------------------\n",
            "loss: 2.044283  [    0/60000]\n",
            "loss: 2.026758  [ 6400/60000]\n",
            "loss: 1.916263  [12800/60000]\n",
            "loss: 1.974349  [19200/60000]\n",
            "loss: 1.889786  [25600/60000]\n",
            "loss: 1.820868  [32000/60000]\n",
            "loss: 1.926211  [38400/60000]\n",
            "loss: 1.776016  [44800/60000]\n",
            "loss: 1.857793  [51200/60000]\n",
            "loss: 1.825153  [57600/60000]\n",
            "Test Error: \n",
            " Accuracy: 53.5%, Avg loss: 1.748042 \n",
            "\n",
            "Epoch 4\n",
            "-------------------------------\n",
            "loss: 1.801566  [    0/60000]\n",
            "loss: 1.772211  [ 6400/60000]\n",
            "loss: 1.600778  [12800/60000]\n",
            "loss: 1.731771  [19200/60000]\n",
            "loss: 1.626490  [25600/60000]\n",
            "loss: 1.545523  [32000/60000]\n",
            "loss: 1.721140  [38400/60000]\n",
            "loss: 1.520199  [44800/60000]\n",
            "loss: 1.665906  [51200/60000]\n",
            "loss: 1.652988  [57600/60000]\n",
            "Test Error: \n",
            " Accuracy: 55.8%, Avg loss: 1.535554 \n",
            "\n",
            "Epoch 5\n",
            "-------------------------------\n",
            "loss: 1.605370  [    0/60000]\n",
            "loss: 1.575442  [ 6400/60000]\n",
            "loss: 1.374197  [12800/60000]\n",
            "loss: 1.557792  [19200/60000]\n",
            "loss: 1.457068  [25600/60000]\n",
            "loss: 1.372595  [32000/60000]\n",
            "loss: 1.588066  [38400/60000]\n",
            "loss: 1.365088  [44800/60000]\n",
            "loss: 1.539616  [51200/60000]\n",
            "loss: 1.540003  [57600/60000]\n",
            "Test Error: \n",
            " Accuracy: 56.4%, Avg loss: 1.402053 \n",
            "\n",
            "Epoch 6\n",
            "-------------------------------\n",
            "loss: 1.476196  [    0/60000]\n",
            "loss: 1.453155  [ 6400/60000]\n",
            "loss: 1.232816  [12800/60000]\n",
            "loss: 1.439899  [19200/60000]\n",
            "loss: 1.347587  [25600/60000]\n",
            "loss: 1.259965  [32000/60000]\n",
            "loss: 1.495150  [38400/60000]\n",
            "loss: 1.267176  [44800/60000]\n",
            "loss: 1.449070  [51200/60000]\n",
            "loss: 1.455112  [57600/60000]\n",
            "Test Error: \n",
            " Accuracy: 57.0%, Avg loss: 1.310408 \n",
            "\n",
            "Epoch 7\n",
            "-------------------------------\n",
            "loss: 1.383296  [    0/60000]\n",
            "loss: 1.371578  [ 6400/60000]\n",
            "loss: 1.135988  [12800/60000]\n",
            "loss: 1.351965  [19200/60000]\n",
            "loss: 1.271633  [25600/60000]\n",
            "loss: 1.178214  [32000/60000]\n",
            "loss: 1.427567  [38400/60000]\n",
            "loss: 1.201576  [44800/60000]\n",
            "loss: 1.381648  [51200/60000]\n",
            "loss: 1.389073  [57600/60000]\n",
            "Test Error: \n",
            " Accuracy: 57.4%, Avg loss: 1.244034 \n",
            "\n",
            "Epoch 8\n",
            "-------------------------------\n",
            "loss: 1.312226  [    0/60000]\n",
            "loss: 1.314310  [ 6400/60000]\n",
            "loss: 1.065099  [12800/60000]\n",
            "loss: 1.284673  [19200/60000]\n",
            "loss: 1.216456  [25600/60000]\n",
            "loss: 1.116481  [32000/60000]\n",
            "loss: 1.379084  [38400/60000]\n",
            "loss: 1.157109  [44800/60000]\n",
            "loss: 1.331899  [51200/60000]\n",
            "loss: 1.338187  [57600/60000]\n",
            "Test Error: \n",
            " Accuracy: 57.7%, Avg loss: 1.195332 \n",
            "\n",
            "Epoch 9\n",
            "-------------------------------\n",
            "loss: 1.257279  [    0/60000]\n",
            "loss: 1.271916  [ 6400/60000]\n",
            "loss: 1.012515  [12800/60000]\n",
            "loss: 1.233181  [19200/60000]\n",
            "loss: 1.176100  [25600/60000]\n",
            "loss: 1.069361  [32000/60000]\n",
            "loss: 1.344302  [38400/60000]\n",
            "loss: 1.127365  [44800/60000]\n",
            "loss: 1.295267  [51200/60000]\n",
            "loss: 1.298890  [57600/60000]\n",
            "Test Error: \n",
            " Accuracy: 58.1%, Avg loss: 1.159216 \n",
            "\n",
            "Epoch 10\n",
            "-------------------------------\n",
            "loss: 1.214505  [    0/60000]\n",
            "loss: 1.238937  [ 6400/60000]\n",
            "loss: 0.972414  [12800/60000]\n",
            "loss: 1.193795  [19200/60000]\n",
            "loss: 1.147019  [25600/60000]\n",
            "loss: 1.033586  [32000/60000]\n",
            "loss: 1.315844  [38400/60000]\n",
            "loss: 1.107413  [44800/60000]\n",
            "loss: 1.268034  [51200/60000]\n",
            "loss: 1.267460  [57600/60000]\n",
            "Test Error: \n",
            " Accuracy: 58.4%, Avg loss: 1.131736 \n",
            "\n",
            "Done!\n"
          ],
          "name": "stdout"
        }
      ]
    },
    {
      "cell_type": "code",
      "metadata": {
        "id": "Su6nHi3MhzIa"
      },
      "source": [
        ""
      ],
      "execution_count": null,
      "outputs": []
    }
  ]
}