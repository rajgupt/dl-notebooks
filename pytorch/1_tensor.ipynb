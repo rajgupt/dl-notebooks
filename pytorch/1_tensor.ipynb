{
  "nbformat": 4,
  "nbformat_minor": 0,
  "metadata": {
    "colab": {
      "name": "1-tensor.ipynb",
      "provenance": [],
      "collapsed_sections": [],
      "authorship_tag": "ABX9TyMY65pgYSNums8gZk+D46Vw",
      "include_colab_link": true
    },
    "kernelspec": {
      "name": "python3",
      "display_name": "Python 3"
    },
    "language_info": {
      "name": "python"
    }
  },
  "cells": [
    {
      "cell_type": "markdown",
      "metadata": {
        "id": "view-in-github",
        "colab_type": "text"
      },
      "source": [
        "<a href=\"https://colab.research.google.com/github/rajgupt/dl-notebooks/blob/main/pytorch/1_tensor.ipynb\" target=\"_parent\"><img src=\"https://colab.research.google.com/assets/colab-badge.svg\" alt=\"Open In Colab\"/></a>"
      ]
    },
    {
      "cell_type": "code",
      "metadata": {
        "id": "rJ4Kj80X8JTZ"
      },
      "source": [
        "import torch\n",
        "import numpy as np"
      ],
      "execution_count": 3,
      "outputs": []
    },
    {
      "cell_type": "markdown",
      "metadata": {
        "id": "DVqEPeHt99eU"
      },
      "source": [
        "Define "
      ]
    },
    {
      "cell_type": "code",
      "metadata": {
        "colab": {
          "base_uri": "https://localhost:8080/"
        },
        "id": "Rdxw9hak8W_y",
        "outputId": "ef1b17f2-fd34-49b6-d30d-35626bf4d108"
      },
      "source": [
        "torch.tensor([[1,2],[3,4]])"
      ],
      "execution_count": 2,
      "outputs": [
        {
          "output_type": "execute_result",
          "data": {
            "text/plain": [
              "tensor([[1, 2],\n",
              "        [3, 4]])"
            ]
          },
          "metadata": {
            "tags": []
          },
          "execution_count": 2
        }
      ]
    },
    {
      "cell_type": "code",
      "metadata": {
        "colab": {
          "base_uri": "https://localhost:8080/"
        },
        "id": "tZ4rJVRv9E0E",
        "outputId": "b9678766-77e7-408d-cef7-2b7badf7c482"
      },
      "source": [
        "torch.zeros(2,3)"
      ],
      "execution_count": 13,
      "outputs": [
        {
          "output_type": "execute_result",
          "data": {
            "text/plain": [
              "tensor([[0., 0., 0.],\n",
              "        [0., 0., 0.]])"
            ]
          },
          "metadata": {
            "tags": []
          },
          "execution_count": 13
        }
      ]
    },
    {
      "cell_type": "code",
      "metadata": {
        "colab": {
          "base_uri": "https://localhost:8080/"
        },
        "id": "ZRzsdjJO8azq",
        "outputId": "a1aa42dc-cb05-4b2a-a056-7c18c708f2da"
      },
      "source": [
        "torch.ones(2,3)"
      ],
      "execution_count": 4,
      "outputs": [
        {
          "output_type": "execute_result",
          "data": {
            "text/plain": [
              "tensor([[1., 1., 1.],\n",
              "        [1., 1., 1.]])"
            ]
          },
          "metadata": {
            "tags": []
          },
          "execution_count": 4
        }
      ]
    },
    {
      "cell_type": "code",
      "metadata": {
        "colab": {
          "base_uri": "https://localhost:8080/"
        },
        "id": "Q0Dm8pAU8hDF",
        "outputId": "f84cfaed-c24a-465a-825f-99247f314517"
      },
      "source": [
        "a = torch.rand(2,3)\n",
        "a"
      ],
      "execution_count": 10,
      "outputs": [
        {
          "output_type": "execute_result",
          "data": {
            "text/plain": [
              "tensor([[0.3265, 0.2595, 0.2719],\n",
              "        [0.8182, 0.3193, 0.4059]])"
            ]
          },
          "metadata": {
            "tags": []
          },
          "execution_count": 10
        }
      ]
    },
    {
      "cell_type": "code",
      "metadata": {
        "colab": {
          "base_uri": "https://localhost:8080/"
        },
        "id": "PC0Vsm9i8kfI",
        "outputId": "48f84b3e-7a74-49d0-df1a-af74f7532b23"
      },
      "source": [
        "arr = np.random.rand(2,3)\n",
        "torch.from_numpy(arr)"
      ],
      "execution_count": 11,
      "outputs": [
        {
          "output_type": "execute_result",
          "data": {
            "text/plain": [
              "tensor([[0.2121, 0.4179, 0.4043],\n",
              "        [0.4073, 0.3492, 0.8544]], dtype=torch.float64)"
            ]
          },
          "metadata": {
            "tags": []
          },
          "execution_count": 11
        }
      ]
    },
    {
      "cell_type": "code",
      "metadata": {
        "colab": {
          "base_uri": "https://localhost:8080/"
        },
        "id": "_BYvwwFH80kg",
        "outputId": "4762337c-6dbd-49be-d590-d910a5041f53"
      },
      "source": [
        "torch.rand_like(a)"
      ],
      "execution_count": 12,
      "outputs": [
        {
          "output_type": "execute_result",
          "data": {
            "text/plain": [
              "tensor([[0.2521, 0.5133, 0.4061],\n",
              "        [0.3766, 0.4922, 0.8233]])"
            ]
          },
          "metadata": {
            "tags": []
          },
          "execution_count": 12
        }
      ]
    },
    {
      "cell_type": "code",
      "metadata": {
        "colab": {
          "base_uri": "https://localhost:8080/"
        },
        "id": "YLzzSI3B884o",
        "outputId": "4b5a8a40-7f8f-4ba7-e0ef-e59337f8d102"
      },
      "source": [
        "a.shape"
      ],
      "execution_count": 14,
      "outputs": [
        {
          "output_type": "execute_result",
          "data": {
            "text/plain": [
              "torch.Size([2, 3])"
            ]
          },
          "metadata": {
            "tags": []
          },
          "execution_count": 14
        }
      ]
    },
    {
      "cell_type": "code",
      "metadata": {
        "colab": {
          "base_uri": "https://localhost:8080/"
        },
        "id": "LUExRJJR9I06",
        "outputId": "89aeda84-7d14-465d-f684-b9eebf2a5a77"
      },
      "source": [
        "a.dtype"
      ],
      "execution_count": 15,
      "outputs": [
        {
          "output_type": "execute_result",
          "data": {
            "text/plain": [
              "torch.float32"
            ]
          },
          "metadata": {
            "tags": []
          },
          "execution_count": 15
        }
      ]
    },
    {
      "cell_type": "code",
      "metadata": {
        "colab": {
          "base_uri": "https://localhost:8080/"
        },
        "id": "WbXgfjD29KB8",
        "outputId": "e0c73a13-aa6d-47ec-8c68-e3aa830631d5"
      },
      "source": [
        "a.device"
      ],
      "execution_count": 16,
      "outputs": [
        {
          "output_type": "execute_result",
          "data": {
            "text/plain": [
              "device(type='cpu')"
            ]
          },
          "metadata": {
            "tags": []
          },
          "execution_count": 16
        }
      ]
    },
    {
      "cell_type": "markdown",
      "metadata": {
        "id": "BFwKT-8796Bk"
      },
      "source": [
        "Play with the Structure"
      ]
    },
    {
      "cell_type": "code",
      "metadata": {
        "colab": {
          "base_uri": "https://localhost:8080/"
        },
        "id": "fRSXIafQ9VgK",
        "outputId": "f6eef572-0443-49b2-fe55-f33e828f07c3"
      },
      "source": [
        "a"
      ],
      "execution_count": 20,
      "outputs": [
        {
          "output_type": "execute_result",
          "data": {
            "text/plain": [
              "tensor([[0.3265, 0.2595, 0.2719],\n",
              "        [0.8182, 0.3193, 0.4059]])"
            ]
          },
          "metadata": {
            "tags": []
          },
          "execution_count": 20
        }
      ]
    },
    {
      "cell_type": "code",
      "metadata": {
        "colab": {
          "base_uri": "https://localhost:8080/"
        },
        "id": "78gL6yKW9MkZ",
        "outputId": "f8810c45-592f-4af2-d7d1-7aa88700dac4"
      },
      "source": [
        "a[0,:]"
      ],
      "execution_count": 23,
      "outputs": [
        {
          "output_type": "execute_result",
          "data": {
            "text/plain": [
              "tensor([0.3265, 0.2595, 0.2719])"
            ]
          },
          "metadata": {
            "tags": []
          },
          "execution_count": 23
        }
      ]
    },
    {
      "cell_type": "code",
      "metadata": {
        "colab": {
          "base_uri": "https://localhost:8080/"
        },
        "id": "wlRgNKmo9QxB",
        "outputId": "4ea776d5-6fea-4a74-c4a8-a69411bdd257"
      },
      "source": [
        "a[:,:1]"
      ],
      "execution_count": 22,
      "outputs": [
        {
          "output_type": "execute_result",
          "data": {
            "text/plain": [
              "tensor([[0.3265],\n",
              "        [0.8182]])"
            ]
          },
          "metadata": {
            "tags": []
          },
          "execution_count": 22
        }
      ]
    },
    {
      "cell_type": "code",
      "metadata": {
        "colab": {
          "base_uri": "https://localhost:8080/"
        },
        "id": "tObZs6iF9aSe",
        "outputId": "c5e48ffa-d4f7-4ae8-ff4c-ca66968eb53c"
      },
      "source": [
        "a[:1,:2]"
      ],
      "execution_count": 25,
      "outputs": [
        {
          "output_type": "execute_result",
          "data": {
            "text/plain": [
              "tensor([[0.3265, 0.2595]])"
            ]
          },
          "metadata": {
            "tags": []
          },
          "execution_count": 25
        }
      ]
    },
    {
      "cell_type": "code",
      "metadata": {
        "colab": {
          "base_uri": "https://localhost:8080/"
        },
        "id": "-TJjPNPl9d10",
        "outputId": "54a9f775-72ac-49f8-9b36-f6231af93783"
      },
      "source": [
        "torch.cat([a,a,a])"
      ],
      "execution_count": 26,
      "outputs": [
        {
          "output_type": "execute_result",
          "data": {
            "text/plain": [
              "tensor([[0.3265, 0.2595, 0.2719],\n",
              "        [0.8182, 0.3193, 0.4059],\n",
              "        [0.3265, 0.2595, 0.2719],\n",
              "        [0.8182, 0.3193, 0.4059],\n",
              "        [0.3265, 0.2595, 0.2719],\n",
              "        [0.8182, 0.3193, 0.4059]])"
            ]
          },
          "metadata": {
            "tags": []
          },
          "execution_count": 26
        }
      ]
    },
    {
      "cell_type": "code",
      "metadata": {
        "colab": {
          "base_uri": "https://localhost:8080/"
        },
        "id": "x71G5dEt9lKj",
        "outputId": "9b8c991f-a351-4914-b168-cb8ffe7d48f6"
      },
      "source": [
        "torch.cat([a,a,a],dim=1)"
      ],
      "execution_count": 27,
      "outputs": [
        {
          "output_type": "execute_result",
          "data": {
            "text/plain": [
              "tensor([[0.3265, 0.2595, 0.2719, 0.3265, 0.2595, 0.2719, 0.3265, 0.2595, 0.2719],\n",
              "        [0.8182, 0.3193, 0.4059, 0.8182, 0.3193, 0.4059, 0.8182, 0.3193, 0.4059]])"
            ]
          },
          "metadata": {
            "tags": []
          },
          "execution_count": 27
        }
      ]
    },
    {
      "cell_type": "code",
      "metadata": {
        "colab": {
          "base_uri": "https://localhost:8080/"
        },
        "id": "DTxYKuh09tgo",
        "outputId": "e12ff31c-9efe-4227-e153-30943ea3ca82"
      },
      "source": [
        "a.reshape(3,2)"
      ],
      "execution_count": 28,
      "outputs": [
        {
          "output_type": "execute_result",
          "data": {
            "text/plain": [
              "tensor([[0.3265, 0.2595],\n",
              "        [0.2719, 0.8182],\n",
              "        [0.3193, 0.4059]])"
            ]
          },
          "metadata": {
            "tags": []
          },
          "execution_count": 28
        }
      ]
    },
    {
      "cell_type": "code",
      "metadata": {
        "colab": {
          "base_uri": "https://localhost:8080/"
        },
        "id": "fVmcSlAA91b1",
        "outputId": "96887a93-d1a1-4448-9194-2e8bf15eb717"
      },
      "source": [
        "a.flatten()"
      ],
      "execution_count": 29,
      "outputs": [
        {
          "output_type": "execute_result",
          "data": {
            "text/plain": [
              "tensor([0.3265, 0.2595, 0.2719, 0.8182, 0.3193, 0.4059])"
            ]
          },
          "metadata": {
            "tags": []
          },
          "execution_count": 29
        }
      ]
    },
    {
      "cell_type": "markdown",
      "metadata": {
        "id": "nvLynhgw-DCd"
      },
      "source": [
        "Arithmetic"
      ]
    },
    {
      "cell_type": "code",
      "metadata": {
        "colab": {
          "base_uri": "https://localhost:8080/"
        },
        "id": "GRknn95-94Ex",
        "outputId": "4afbb443-d26d-4ab7-fdbc-697d861a7db6"
      },
      "source": [
        "a + a "
      ],
      "execution_count": 30,
      "outputs": [
        {
          "output_type": "execute_result",
          "data": {
            "text/plain": [
              "tensor([[0.6529, 0.5190, 0.5438],\n",
              "        [1.6365, 0.6387, 0.8118]])"
            ]
          },
          "metadata": {
            "tags": []
          },
          "execution_count": 30
        }
      ]
    },
    {
      "cell_type": "code",
      "metadata": {
        "colab": {
          "base_uri": "https://localhost:8080/"
        },
        "id": "H_UiaRly-ElR",
        "outputId": "29dd571f-3eda-48d8-caf5-af2d06a9a481"
      },
      "source": [
        "a**2"
      ],
      "execution_count": 31,
      "outputs": [
        {
          "output_type": "execute_result",
          "data": {
            "text/plain": [
              "tensor([[0.1066, 0.0674, 0.0739],\n",
              "        [0.6695, 0.1020, 0.1647]])"
            ]
          },
          "metadata": {
            "tags": []
          },
          "execution_count": 31
        }
      ]
    },
    {
      "cell_type": "code",
      "metadata": {
        "colab": {
          "base_uri": "https://localhost:8080/"
        },
        "id": "Pzf_FtGI-HQP",
        "outputId": "9ab75604-3cba-4ba6-edf5-dc79a922f020"
      },
      "source": [
        "a @ a.T"
      ],
      "execution_count": 35,
      "outputs": [
        {
          "output_type": "execute_result",
          "data": {
            "text/plain": [
              "tensor([[0.2479, 0.4604],\n",
              "        [0.4604, 0.9362]])"
            ]
          },
          "metadata": {
            "tags": []
          },
          "execution_count": 35
        }
      ]
    },
    {
      "cell_type": "code",
      "metadata": {
        "colab": {
          "base_uri": "https://localhost:8080/"
        },
        "id": "eCfORzDb-K_G",
        "outputId": "912d984d-720b-49b9-b89d-f5e20587c6e3"
      },
      "source": [
        "a.sum(dim=0), a.sum(dim=1)"
      ],
      "execution_count": 38,
      "outputs": [
        {
          "output_type": "execute_result",
          "data": {
            "text/plain": [
              "(tensor([1.1447, 0.5789, 0.6778]), tensor([0.8579, 1.5435]))"
            ]
          },
          "metadata": {
            "tags": []
          },
          "execution_count": 38
        }
      ]
    },
    {
      "cell_type": "markdown",
      "metadata": {
        "id": "GuepVNUc-vdz"
      },
      "source": [
        "In-place operation "
      ]
    },
    {
      "cell_type": "code",
      "metadata": {
        "colab": {
          "base_uri": "https://localhost:8080/"
        },
        "id": "CrnOVub3-aL7",
        "outputId": "6e806a90-fc10-4944-a4a3-2f74b015b5f2"
      },
      "source": [
        "a.add_(1)"
      ],
      "execution_count": 40,
      "outputs": [
        {
          "output_type": "execute_result",
          "data": {
            "text/plain": [
              "tensor([[1.3265, 1.2595, 1.2719],\n",
              "        [1.8182, 1.3193, 1.4059]])"
            ]
          },
          "metadata": {
            "tags": []
          },
          "execution_count": 40
        }
      ]
    },
    {
      "cell_type": "code",
      "metadata": {
        "colab": {
          "base_uri": "https://localhost:8080/"
        },
        "id": "Mv8yeR1x-ynA",
        "outputId": "5a7c12cd-a3f3-4830-9ee6-7499d7b8dea1"
      },
      "source": [
        "a"
      ],
      "execution_count": 41,
      "outputs": [
        {
          "output_type": "execute_result",
          "data": {
            "text/plain": [
              "tensor([[1.3265, 1.2595, 1.2719],\n",
              "        [1.8182, 1.3193, 1.4059]])"
            ]
          },
          "metadata": {
            "tags": []
          },
          "execution_count": 41
        }
      ]
    },
    {
      "cell_type": "code",
      "metadata": {
        "colab": {
          "base_uri": "https://localhost:8080/"
        },
        "id": "3GCmfPXO-5JY",
        "outputId": "95380651-014d-452f-d374-ae76c420c449"
      },
      "source": [
        "b = a.numpy()\n",
        "b"
      ],
      "execution_count": 46,
      "outputs": [
        {
          "output_type": "execute_result",
          "data": {
            "text/plain": [
              "array([[1.3264642, 1.2595217, 1.271909 ],\n",
              "       [1.8182275, 1.3193341, 1.4058887]], dtype=float32)"
            ]
          },
          "metadata": {
            "tags": []
          },
          "execution_count": 46
        }
      ]
    },
    {
      "cell_type": "code",
      "metadata": {
        "id": "RH99Cu5T_A_N"
      },
      "source": [
        "a"
      ],
      "execution_count": null,
      "outputs": []
    }
  ]
}